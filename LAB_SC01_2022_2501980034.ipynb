{
  "nbformat": 4,
  "nbformat_minor": 0,
  "metadata": {
    "colab": {
      "name": "LAB_SC01_2022_2501980034.ipynb",
      "provenance": [],
      "collapsed_sections": [],
      "authorship_tag": "ABX9TyOm1BxwVe/cQuzpOm5bYzUq",
      "include_colab_link": true
    },
    "kernelspec": {
      "name": "python3",
      "display_name": "Python 3"
    },
    "language_info": {
      "name": "python"
    }
  },
  "cells": [
    {
      "cell_type": "markdown",
      "metadata": {
        "id": "view-in-github",
        "colab_type": "text"
      },
      "source": [
        "<a href=\"https://colab.research.google.com/github/YehudaKris/LAB-SCIENTIFIC-COMPUTING/blob/main/LAB_SC01_2022_2501980034.ipynb\" target=\"_parent\"><img src=\"https://colab.research.google.com/assets/colab-badge.svg\" alt=\"Open In Colab\"/></a>"
      ]
    },
    {
      "cell_type": "code",
      "execution_count": null,
      "metadata": {
        "colab": {
          "base_uri": "https://localhost:8080/"
        },
        "id": "vpQT200fZl8M",
        "outputId": "a1ce2655-b8ad-4c60-8edf-edb6c659e473"
      },
      "outputs": [
        {
          "output_type": "stream",
          "name": "stdout",
          "text": [
            "Wed Feb 23 02:30:29 2022\n"
          ]
        }
      ],
      "source": [
        "import time\n",
        "print(time.ctime()) "
      ]
    },
    {
      "cell_type": "code",
      "source": [
        "x=1\n",
        "x"
      ],
      "metadata": {
        "colab": {
          "base_uri": "https://localhost:8080/"
        },
        "id": "KxLuH35caxpY",
        "outputId": "4933c6e5-2060-4d33-8f1c-d7336a7fc8a9"
      },
      "execution_count": null,
      "outputs": [
        {
          "output_type": "execute_result",
          "data": {
            "text/plain": [
              "1"
            ]
          },
          "metadata": {},
          "execution_count": 2
        }
      ]
    },
    {
      "cell_type": "code",
      "source": [
        "x=x+1\n",
        "x"
      ],
      "metadata": {
        "colab": {
          "base_uri": "https://localhost:8080/"
        },
        "id": "SBBPK5yrbcQw",
        "outputId": "ba7619bb-e68e-4b8d-f558-de6567746a40"
      },
      "execution_count": null,
      "outputs": [
        {
          "output_type": "execute_result",
          "data": {
            "text/plain": [
              "2"
            ]
          },
          "metadata": {},
          "execution_count": 3
        }
      ]
    },
    {
      "cell_type": "code",
      "source": [
        "x=1\n",
        "y=x+1\n",
        "x=2\n",
        "y"
      ],
      "metadata": {
        "colab": {
          "base_uri": "https://localhost:8080/"
        },
        "id": "ebm5saR5b0C0",
        "outputId": "205cb5e4-b4e0-43b1-e75b-a382c5059935"
      },
      "execution_count": null,
      "outputs": [
        {
          "output_type": "execute_result",
          "data": {
            "text/plain": [
              "2"
            ]
          },
          "metadata": {},
          "execution_count": 5
        }
      ]
    },
    {
      "cell_type": "markdown",
      "source": [
        "**INTRO TO NUMPY**"
      ],
      "metadata": {
        "id": "fkBngJyzdC-L"
      }
    },
    {
      "cell_type": "code",
      "source": [
        "import numpy as np\n"
      ],
      "metadata": {
        "id": "cshPscJLdGiJ"
      },
      "execution_count": null,
      "outputs": []
    },
    {
      "cell_type": "code",
      "source": [
        "x = np.array([1,4,3])\n",
        "x"
      ],
      "metadata": {
        "colab": {
          "base_uri": "https://localhost:8080/"
        },
        "id": "GqrkhtKxdbAm",
        "outputId": "44533ae4-633e-4ac4-d27a-b9a8f62bc98e"
      },
      "execution_count": null,
      "outputs": [
        {
          "output_type": "execute_result",
          "data": {
            "text/plain": [
              "array([1, 4, 3])"
            ]
          },
          "metadata": {},
          "execution_count": 7
        }
      ]
    },
    {
      "cell_type": "code",
      "source": [
        "y = np.array([[1,4,3],[9,2,7]])\n",
        "y"
      ],
      "metadata": {
        "colab": {
          "base_uri": "https://localhost:8080/"
        },
        "id": "aqZ_O-SWdcS9",
        "outputId": "e95ffdfb-69d2-4adf-f968-88edc1aecef0"
      },
      "execution_count": null,
      "outputs": [
        {
          "output_type": "execute_result",
          "data": {
            "text/plain": [
              "array([[1, 4, 3],\n",
              "       [9, 2, 7]])"
            ]
          },
          "metadata": {},
          "execution_count": 8
        }
      ]
    },
    {
      "cell_type": "markdown",
      "source": [
        "**INTRO TO FUNCTION**"
      ],
      "metadata": {
        "id": "RJvlEsY3kwI7"
      }
    },
    {
      "cell_type": "code",
      "source": [
        "def my_adder(a, b, c):\n",
        "  \"\"\"\n",
        "  Fungsi untuk menghitung jumlah dari 3 angka\n",
        "  Input : 3 numbers\n",
        "  Output : the sum of that 3 numbers\n",
        "  author : Yehuda K\n",
        "  date : 23/2/2022\n",
        "  \"\"\"\n",
        "  #this is the sumation\n",
        "  out = a+b+c\n",
        "  return out"
      ],
      "metadata": {
        "id": "e7Jo3JN7eaD7"
      },
      "execution_count": null,
      "outputs": []
    },
    {
      "cell_type": "code",
      "source": [
        "help(my_adder)"
      ],
      "metadata": {
        "colab": {
          "base_uri": "https://localhost:8080/"
        },
        "id": "GQs4EICIhI8k",
        "outputId": "88f8a34c-599c-44f1-ead4-18366b280aab"
      },
      "execution_count": null,
      "outputs": [
        {
          "output_type": "stream",
          "name": "stdout",
          "text": [
            "Help on function my_adder in module __main__:\n",
            "\n",
            "my_adder(a, b, c)\n",
            "    Fungsi untuk menghitung jumlah dari 3 angka\n",
            "    Input : 3 numbers\n",
            "    Output : the sum of that 3 numbers\n",
            "    author : Yehuda K\n",
            "    date : 23/2/2022\n",
            "\n"
          ]
        }
      ]
    },
    {
      "cell_type": "code",
      "source": [
        "my_adder(1,2,3)"
      ],
      "metadata": {
        "colab": {
          "base_uri": "https://localhost:8080/"
        },
        "id": "KL4BjDdpgEer",
        "outputId": "04fb1541-5083-43e1-a86f-3b7e5e75c50d"
      },
      "execution_count": null,
      "outputs": [
        {
          "output_type": "execute_result",
          "data": {
            "text/plain": [
              "6"
            ]
          },
          "metadata": {},
          "execution_count": 12
        }
      ]
    },
    {
      "cell_type": "markdown",
      "source": [
        "**EXAMPLE OF IF-ELSE STATEMENT**"
      ],
      "metadata": {
        "id": "LLI-7oCkjgPy"
      }
    },
    {
      "cell_type": "code",
      "source": [
        "def my_thermo_stat(temp, desired_temp):\n",
        "  if temp < desired_temp - 5:\n",
        "    status = \"heat\"\n",
        "  elif temp > desired_temp + 5:\n",
        "    status = \"AC\"\n",
        "  else:\n",
        "    status = \"off\"\n",
        "#indent diperhatikan, sangat penting!!!\n",
        "  return status  "
      ],
      "metadata": {
        "id": "8Aa_SEbcijR0"
      },
      "execution_count": null,
      "outputs": []
    },
    {
      "cell_type": "code",
      "source": [
        "status = my_thermo_stat(50,40)\n",
        "status"
      ],
      "metadata": {
        "colab": {
          "base_uri": "https://localhost:8080/",
          "height": 35
        },
        "id": "A7FbCeHfi9Ak",
        "outputId": "e6f3a326-9b60-488a-8b76-d26d1bf757af"
      },
      "execution_count": null,
      "outputs": [
        {
          "output_type": "execute_result",
          "data": {
            "application/vnd.google.colaboratory.intrinsic+json": {
              "type": "string"
            },
            "text/plain": [
              "'AC'"
            ]
          },
          "metadata": {},
          "execution_count": 29
        }
      ]
    },
    {
      "cell_type": "code",
      "source": [
        "x=3\n",
        "if x > 1 and x < 2:\n",
        "  y=2\n",
        "elif x > 2 and x < 4:\n",
        "  y=4\n",
        "else:\n",
        "  y=0\n",
        "print(y)"
      ],
      "metadata": {
        "colab": {
          "base_uri": "https://localhost:8080/"
        },
        "id": "EURyuC0mkHHn",
        "outputId": "a36ca6b0-cfd5-410a-c3ab-7de24d8ed565"
      },
      "execution_count": null,
      "outputs": [
        {
          "output_type": "stream",
          "name": "stdout",
          "text": [
            "4\n"
          ]
        }
      ]
    },
    {
      "cell_type": "code",
      "source": [
        "x = 3\n",
        "if 1 < x < 2:\n",
        "  y = 2\n",
        "elif 2 < x < 4:\n",
        "  y=4\n",
        "else:\n",
        "  y=0\n",
        "print(y)"
      ],
      "metadata": {
        "colab": {
          "base_uri": "https://localhost:8080/"
        },
        "id": "RRFhf5iBkhax",
        "outputId": "2b2a5739-c5c3-487c-8920-42f3e405e156"
      },
      "execution_count": null,
      "outputs": [
        {
          "output_type": "stream",
          "name": "stdout",
          "text": [
            "4\n"
          ]
        }
      ]
    }
  ]
}