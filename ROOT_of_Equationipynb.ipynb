{
  "nbformat": 4,
  "nbformat_minor": 0,
  "metadata": {
    "colab": {
      "name": "ROOT of Equationipynb",
      "provenance": [],
      "authorship_tag": "ABX9TyMmaPf0YSj6vTgqCFrMlnta",
      "include_colab_link": true
    },
    "kernelspec": {
      "name": "python3",
      "display_name": "Python 3"
    },
    "language_info": {
      "name": "python"
    }
  },
  "cells": [
    {
      "cell_type": "markdown",
      "metadata": {
        "id": "view-in-github",
        "colab_type": "text"
      },
      "source": [
        "<a href=\"https://colab.research.google.com/github/YehudaKris/LAB-SCIENTIFIC-COMPUTING/blob/main/ROOT_of_Equationipynb.ipynb\" target=\"_parent\"><img src=\"https://colab.research.google.com/assets/colab-badge.svg\" alt=\"Open In Colab\"/></a>"
      ]
    },
    {
      "cell_type": "markdown",
      "source": [
        " **BISECTION METHOD**"
      ],
      "metadata": {
        "id": "dr2eG1yEwQUp"
      }
    },
    {
      "cell_type": "code",
      "execution_count": 2,
      "metadata": {
        "id": "RKs4aegkwLhp"
      },
      "outputs": [],
      "source": [
        "import numpy as np\n",
        "def my_bisection(f,a,b,tol):\n",
        "  #1. Approximates a root, R, of f bounded by a and b to within tolerance\n",
        "  #2. | f(m) | < tol with m the midpoint between a and b recursive Implementation\n",
        "\n",
        "  #Checking Phase, if a and b bound a root\n",
        "  if np.sign(f(a)) == np.sign(f(b)):\n",
        "    raise Exception(\"The Scalars a and b do not bound a root\")\n",
        "\n",
        "  #Getting a midpoint\n",
        "  m = (a+b)/2\n",
        "  if np.abs(f(m)) < tol:\n",
        "    #this is a stopping condition, report m as root\n",
        "    return m\n",
        "  elif np.sign(f(a)) == np.sign(f(m)):\n",
        "    #this a case, where m is an improvement on a.\n",
        "    #Recursive phase with a = m\n",
        "    return my_bisection(f,m,b,tol)\n",
        "  elif np.sign(f(b)) == np.sign(f(m)):\n",
        "    #this a case, where m is an improvement on b.\n",
        "    #Recursive phase with b = m\n",
        "    return my_bisection(f,a,m,tol)"
      ]
    },
    {
      "cell_type": "code",
      "source": [
        "f = lambda x: x**2-2\n",
        "r1 = my_bisection(f,0,2,0.1)\n",
        "print(\"r1 = \", r1)\n",
        "r01 = my_bisection(f,0,2,0.01)\n",
        "print(\"r01 = \", r01)\n",
        "print(\"f(r1) = \", f(r1))\n",
        "print(\"f(r01) = \", f(r01))"
      ],
      "metadata": {
        "colab": {
          "base_uri": "https://localhost:8080/"
        },
        "id": "XZSh0ek7x50y",
        "outputId": "eddbb9fa-a3d5-4e42-e369-4f2f016a3a5b"
      },
      "execution_count": 3,
      "outputs": [
        {
          "output_type": "stream",
          "name": "stdout",
          "text": [
            "r1 =  1.4375\n",
            "r01 =  1.4140625\n",
            "f(r1) =  0.06640625\n",
            "f(r01) =  -0.00042724609375\n"
          ]
        }
      ]
    }
  ]
}